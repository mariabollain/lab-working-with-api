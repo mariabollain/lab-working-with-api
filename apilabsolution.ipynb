{
 "cells": [
  {
   "cell_type": "markdown",
   "id": "cefc1358",
   "metadata": {},
   "source": [
    "## Intro\n",
    "In this lab I will work with house plants information from the House Plants API, in order to create some visualizations with the data obtained."
   ]
  },
  {
   "cell_type": "markdown",
   "id": "0136d6ca",
   "metadata": {},
   "source": [
    "## Import libraries"
   ]
  },
  {
   "cell_type": "code",
   "execution_count": 1,
   "id": "3b2162b4",
   "metadata": {},
   "outputs": [],
   "source": [
    "# !pip install squarify\n",
    "\n",
    "import requests\n",
    "import pandas as pd\n",
    "import numpy as np\n",
    "\n",
    "import matplotlib.pyplot as plt\n",
    "import seaborn as sns\n",
    "import squarify"
   ]
  },
  {
   "cell_type": "markdown",
   "id": "154444a8",
   "metadata": {},
   "source": [
    "## Load data "
   ]
  },
  {
   "cell_type": "code",
   "execution_count": 2,
   "id": "f801f9a3",
   "metadata": {},
   "outputs": [],
   "source": [
    "url = \"https://house-plants2.p.rapidapi.com/all-lite\"\n",
    "\n",
    "headers = {\n",
    "\t\"X-RapidAPI-Key\": \"b82109388cmshe368abf57775293p109541jsn985b2de713ee\",\n",
    "\t\"X-RapidAPI-Host\": \"house-plants2.p.rapidapi.com\"\n",
    "}\n",
    "\n",
    "response = requests.get(url, headers=headers)\n",
    "\n",
    "r_json = response.json()"
   ]
  },
  {
   "cell_type": "code",
   "execution_count": 3,
   "id": "3ccb4f5e",
   "metadata": {},
   "outputs": [
    {
     "data": {
      "text/html": [
       "<div>\n",
       "<style scoped>\n",
       "    .dataframe tbody tr th:only-of-type {\n",
       "        vertical-align: middle;\n",
       "    }\n",
       "\n",
       "    .dataframe tbody tr th {\n",
       "        vertical-align: top;\n",
       "    }\n",
       "\n",
       "    .dataframe thead th {\n",
       "        text-align: right;\n",
       "    }\n",
       "</style>\n",
       "<table border=\"1\" class=\"dataframe\">\n",
       "  <thead>\n",
       "    <tr style=\"text-align: right;\">\n",
       "      <th></th>\n",
       "      <th>Categories</th>\n",
       "      <th>Common name (fr.)</th>\n",
       "      <th>Img</th>\n",
       "      <th>Family</th>\n",
       "      <th>Latin name</th>\n",
       "      <th>Description</th>\n",
       "      <th>Origin</th>\n",
       "      <th>Zone</th>\n",
       "      <th>Common name</th>\n",
       "      <th>Other names</th>\n",
       "      <th>id</th>\n",
       "      <th>Climat</th>\n",
       "    </tr>\n",
       "  </thead>\n",
       "  <tbody>\n",
       "    <tr>\n",
       "      <th>0</th>\n",
       "      <td>Dracaena</td>\n",
       "      <td>Janet Craig</td>\n",
       "      <td>http://www.tropicopia.com/house-plant/thumbnai...</td>\n",
       "      <td>Liliaceae</td>\n",
       "      <td>Dracaena deremensis 'Janet Craig'</td>\n",
       "      <td>None</td>\n",
       "      <td>[Cultivar]</td>\n",
       "      <td>[11-10]</td>\n",
       "      <td>[Janet Craig]</td>\n",
       "      <td>None</td>\n",
       "      <td>53417c12-4824-5995-bce0-b81984ebbd1d</td>\n",
       "      <td>Tropical</td>\n",
       "    </tr>\n",
       "    <tr>\n",
       "      <th>1</th>\n",
       "      <td>Palm</td>\n",
       "      <td>None</td>\n",
       "      <td>http://www.tropicopia.com/house-plant/thumbnai...</td>\n",
       "      <td>Arecaceae</td>\n",
       "      <td>Rhapis excelsa</td>\n",
       "      <td>None</td>\n",
       "      <td>[China]</td>\n",
       "      <td>[11, 9]</td>\n",
       "      <td>[Lady palm]</td>\n",
       "      <td>Rhapis flabelliformis</td>\n",
       "      <td>9b97aef1-20a4-5620-af90-7d64dadb414e</td>\n",
       "      <td>Subtropical</td>\n",
       "    </tr>\n",
       "    <tr>\n",
       "      <th>2</th>\n",
       "      <td>Anthurium</td>\n",
       "      <td>Flamant rose, Langue de feu</td>\n",
       "      <td>http://www.tropicopia.com/house-plant/thumbnai...</td>\n",
       "      <td>Araceae</td>\n",
       "      <td>Anthurium X</td>\n",
       "      <td>None</td>\n",
       "      <td>[Cultivar]</td>\n",
       "      <td>[11]</td>\n",
       "      <td>[Tailflower, Wax flower]</td>\n",
       "      <td>None</td>\n",
       "      <td>215b33f4-66d2-5601-b776-4501f2bd50b7</td>\n",
       "      <td>Tropical</td>\n",
       "    </tr>\n",
       "    <tr>\n",
       "      <th>3</th>\n",
       "      <td>Other</td>\n",
       "      <td>Oreille d'lphant</td>\n",
       "      <td>http://www.tropicopia.com/house-plant/thumbnai...</td>\n",
       "      <td>Araceae</td>\n",
       "      <td>Alocasia X amazonica</td>\n",
       "      <td>None</td>\n",
       "      <td>[Hybrid]</td>\n",
       "      <td>[11]</td>\n",
       "      <td>[Elephant ear]</td>\n",
       "      <td>(A. sanderiana x A. lowii grandis)</td>\n",
       "      <td>55a0e4fa-0717-521d-9671-0fc9095f2055</td>\n",
       "      <td>Tropical humid</td>\n",
       "    </tr>\n",
       "    <tr>\n",
       "      <th>4</th>\n",
       "      <td>Dracaena</td>\n",
       "      <td>Dracaena de Malaisie</td>\n",
       "      <td>http://www.tropicopia.com/house-plant/thumbnai...</td>\n",
       "      <td>Liliaceae</td>\n",
       "      <td>Dracaena reflexa 'Song of Jamaica'</td>\n",
       "      <td>None</td>\n",
       "      <td>[Cultivar]</td>\n",
       "      <td>[11-10]</td>\n",
       "      <td>[Malaysian Dracaena]</td>\n",
       "      <td>Pleomele reflexa</td>\n",
       "      <td>99596292-0712-5d51-8b94-669d621c504a</td>\n",
       "      <td>Tropical</td>\n",
       "    </tr>\n",
       "    <tr>\n",
       "      <th>...</th>\n",
       "      <td>...</td>\n",
       "      <td>...</td>\n",
       "      <td>...</td>\n",
       "      <td>...</td>\n",
       "      <td>...</td>\n",
       "      <td>...</td>\n",
       "      <td>...</td>\n",
       "      <td>...</td>\n",
       "      <td>...</td>\n",
       "      <td>...</td>\n",
       "      <td>...</td>\n",
       "      <td>...</td>\n",
       "    </tr>\n",
       "    <tr>\n",
       "      <th>350</th>\n",
       "      <td>Aglaonema</td>\n",
       "      <td>Aglaonema</td>\n",
       "      <td>http://www.tropicopia.com/house-plant/thumbnai...</td>\n",
       "      <td>Araceae</td>\n",
       "      <td>Aglaonema 'Marguerita'</td>\n",
       "      <td>None</td>\n",
       "      <td>[Hybrid]</td>\n",
       "      <td>[11]</td>\n",
       "      <td>[Chinese Evergreen]</td>\n",
       "      <td>None</td>\n",
       "      <td>acdf7584-020e-51cd-9592-71a6c1b05616</td>\n",
       "      <td>Tropical</td>\n",
       "    </tr>\n",
       "    <tr>\n",
       "      <th>351</th>\n",
       "      <td>Aglaonema</td>\n",
       "      <td>Aglaonema</td>\n",
       "      <td>http://www.tropicopia.com/house-plant/thumbnai...</td>\n",
       "      <td>Araceae</td>\n",
       "      <td>Aglaonema 'Painted Princess'</td>\n",
       "      <td>None</td>\n",
       "      <td>[Hybrid]</td>\n",
       "      <td>[11]</td>\n",
       "      <td>[Chinese Evergreen]</td>\n",
       "      <td>None</td>\n",
       "      <td>f394aa12-de94-5714-85a3-6abf4e23401b</td>\n",
       "      <td>Tropical</td>\n",
       "    </tr>\n",
       "    <tr>\n",
       "      <th>352</th>\n",
       "      <td>Foliage plant</td>\n",
       "      <td>Caltha argent</td>\n",
       "      <td>http://www.tropicopia.com/house-plant/thumbnai...</td>\n",
       "      <td>Marantaceae</td>\n",
       "      <td>Calathea pictura 'Argentea'</td>\n",
       "      <td>None</td>\n",
       "      <td>[Cultivar]</td>\n",
       "      <td>[12]</td>\n",
       "      <td>[Silver Calathea]</td>\n",
       "      <td>None</td>\n",
       "      <td>8db3d134-7bfb-52f8-affd-c759c739c8e5</td>\n",
       "      <td>Tropical</td>\n",
       "    </tr>\n",
       "    <tr>\n",
       "      <th>353</th>\n",
       "      <td>Ficus</td>\n",
       "      <td>Plante caoutchouc</td>\n",
       "      <td>http://www.tropicopia.com/house-plant/thumbnai...</td>\n",
       "      <td>Moraceae</td>\n",
       "      <td>Ficus elastica 'Robusta'</td>\n",
       "      <td>None</td>\n",
       "      <td>[Cultivar]</td>\n",
       "      <td>[11-10]</td>\n",
       "      <td>[Rubber plant]</td>\n",
       "      <td>None</td>\n",
       "      <td>6edd069d-6a56-5c02-86bb-a190a515be63</td>\n",
       "      <td>Tropical</td>\n",
       "    </tr>\n",
       "    <tr>\n",
       "      <th>354</th>\n",
       "      <td>Cactus &amp; Succulent</td>\n",
       "      <td>Agave bleu</td>\n",
       "      <td>http://www.tropicopia.com/house-plant/thumbnai...</td>\n",
       "      <td>Amaryllidaceae</td>\n",
       "      <td>Agave verschaffeltii</td>\n",
       "      <td>None</td>\n",
       "      <td>[Mexico]</td>\n",
       "      <td>[10, 8]</td>\n",
       "      <td>[Blue Agave, Century plant]</td>\n",
       "      <td>None</td>\n",
       "      <td>52924272-8ba8-5e47-a2df-0c68da75f2c1</td>\n",
       "      <td>Arid Tropical</td>\n",
       "    </tr>\n",
       "  </tbody>\n",
       "</table>\n",
       "<p>355 rows × 12 columns</p>\n",
       "</div>"
      ],
      "text/plain": [
       "             Categories            Common name (fr.)  \\\n",
       "0              Dracaena                  Janet Craig   \n",
       "1                  Palm                         None   \n",
       "2             Anthurium  Flamant rose, Langue de feu   \n",
       "3                 Other             Oreille d'lphant   \n",
       "4              Dracaena         Dracaena de Malaisie   \n",
       "..                  ...                          ...   \n",
       "350           Aglaonema                    Aglaonema   \n",
       "351           Aglaonema                    Aglaonema   \n",
       "352       Foliage plant                Caltha argent   \n",
       "353               Ficus            Plante caoutchouc   \n",
       "354  Cactus & Succulent                   Agave bleu   \n",
       "\n",
       "                                                   Img          Family  \\\n",
       "0    http://www.tropicopia.com/house-plant/thumbnai...       Liliaceae   \n",
       "1    http://www.tropicopia.com/house-plant/thumbnai...       Arecaceae   \n",
       "2    http://www.tropicopia.com/house-plant/thumbnai...         Araceae   \n",
       "3    http://www.tropicopia.com/house-plant/thumbnai...         Araceae   \n",
       "4    http://www.tropicopia.com/house-plant/thumbnai...       Liliaceae   \n",
       "..                                                 ...             ...   \n",
       "350  http://www.tropicopia.com/house-plant/thumbnai...         Araceae   \n",
       "351  http://www.tropicopia.com/house-plant/thumbnai...         Araceae   \n",
       "352  http://www.tropicopia.com/house-plant/thumbnai...     Marantaceae   \n",
       "353  http://www.tropicopia.com/house-plant/thumbnai...        Moraceae   \n",
       "354  http://www.tropicopia.com/house-plant/thumbnai...  Amaryllidaceae   \n",
       "\n",
       "                             Latin name Description      Origin     Zone  \\\n",
       "0     Dracaena deremensis 'Janet Craig'        None  [Cultivar]  [11-10]   \n",
       "1                        Rhapis excelsa        None     [China]  [11, 9]   \n",
       "2                           Anthurium X        None  [Cultivar]     [11]   \n",
       "3                  Alocasia X amazonica        None    [Hybrid]     [11]   \n",
       "4    Dracaena reflexa 'Song of Jamaica'        None  [Cultivar]  [11-10]   \n",
       "..                                  ...         ...         ...      ...   \n",
       "350              Aglaonema 'Marguerita'        None    [Hybrid]     [11]   \n",
       "351        Aglaonema 'Painted Princess'        None    [Hybrid]     [11]   \n",
       "352         Calathea pictura 'Argentea'        None  [Cultivar]     [12]   \n",
       "353            Ficus elastica 'Robusta'        None  [Cultivar]  [11-10]   \n",
       "354                Agave verschaffeltii        None    [Mexico]  [10, 8]   \n",
       "\n",
       "                     Common name                         Other names  \\\n",
       "0                  [Janet Craig]                                None   \n",
       "1                    [Lady palm]               Rhapis flabelliformis   \n",
       "2       [Tailflower, Wax flower]                                None   \n",
       "3                 [Elephant ear]  (A. sanderiana x A. lowii grandis)   \n",
       "4           [Malaysian Dracaena]                    Pleomele reflexa   \n",
       "..                           ...                                 ...   \n",
       "350          [Chinese Evergreen]                                None   \n",
       "351          [Chinese Evergreen]                                None   \n",
       "352            [Silver Calathea]                                None   \n",
       "353               [Rubber plant]                                None   \n",
       "354  [Blue Agave, Century plant]                                None   \n",
       "\n",
       "                                       id          Climat  \n",
       "0    53417c12-4824-5995-bce0-b81984ebbd1d        Tropical  \n",
       "1    9b97aef1-20a4-5620-af90-7d64dadb414e     Subtropical  \n",
       "2    215b33f4-66d2-5601-b776-4501f2bd50b7        Tropical  \n",
       "3    55a0e4fa-0717-521d-9671-0fc9095f2055  Tropical humid  \n",
       "4    99596292-0712-5d51-8b94-669d621c504a        Tropical  \n",
       "..                                    ...             ...  \n",
       "350  acdf7584-020e-51cd-9592-71a6c1b05616        Tropical  \n",
       "351  f394aa12-de94-5714-85a3-6abf4e23401b        Tropical  \n",
       "352  8db3d134-7bfb-52f8-affd-c759c739c8e5        Tropical  \n",
       "353  6edd069d-6a56-5c02-86bb-a190a515be63        Tropical  \n",
       "354  52924272-8ba8-5e47-a2df-0c68da75f2c1   Arid Tropical  \n",
       "\n",
       "[355 rows x 12 columns]"
      ]
     },
     "execution_count": 3,
     "metadata": {},
     "output_type": "execute_result"
    }
   ],
   "source": [
    "plant_data = pd.DataFrame(r_json)\n",
    "plant_data"
   ]
  },
  {
   "cell_type": "markdown",
   "id": "46933119",
   "metadata": {},
   "source": [
    "## Visualizations\n",
    "#### Family"
   ]
  },
  {
   "cell_type": "code",
   "execution_count": 4,
   "id": "95cac4a9",
   "metadata": {},
   "outputs": [
    {
     "data": {
      "text/html": [
       "<div>\n",
       "<style scoped>\n",
       "    .dataframe tbody tr th:only-of-type {\n",
       "        vertical-align: middle;\n",
       "    }\n",
       "\n",
       "    .dataframe tbody tr th {\n",
       "        vertical-align: top;\n",
       "    }\n",
       "\n",
       "    .dataframe thead th {\n",
       "        text-align: right;\n",
       "    }\n",
       "</style>\n",
       "<table border=\"1\" class=\"dataframe\">\n",
       "  <thead>\n",
       "    <tr style=\"text-align: right;\">\n",
       "      <th></th>\n",
       "      <th>Family</th>\n",
       "    </tr>\n",
       "  </thead>\n",
       "  <tbody>\n",
       "    <tr>\n",
       "      <th>0</th>\n",
       "      <td>Liliaceae</td>\n",
       "    </tr>\n",
       "    <tr>\n",
       "      <th>1</th>\n",
       "      <td>Arecaceae</td>\n",
       "    </tr>\n",
       "    <tr>\n",
       "      <th>2</th>\n",
       "      <td>Araceae</td>\n",
       "    </tr>\n",
       "    <tr>\n",
       "      <th>3</th>\n",
       "      <td>Araceae</td>\n",
       "    </tr>\n",
       "    <tr>\n",
       "      <th>4</th>\n",
       "      <td>Liliaceae</td>\n",
       "    </tr>\n",
       "    <tr>\n",
       "      <th>...</th>\n",
       "      <td>...</td>\n",
       "    </tr>\n",
       "    <tr>\n",
       "      <th>350</th>\n",
       "      <td>Araceae</td>\n",
       "    </tr>\n",
       "    <tr>\n",
       "      <th>351</th>\n",
       "      <td>Araceae</td>\n",
       "    </tr>\n",
       "    <tr>\n",
       "      <th>352</th>\n",
       "      <td>Marantaceae</td>\n",
       "    </tr>\n",
       "    <tr>\n",
       "      <th>353</th>\n",
       "      <td>Moraceae</td>\n",
       "    </tr>\n",
       "    <tr>\n",
       "      <th>354</th>\n",
       "      <td>Amaryllidaceae</td>\n",
       "    </tr>\n",
       "  </tbody>\n",
       "</table>\n",
       "<p>355 rows × 1 columns</p>\n",
       "</div>"
      ],
      "text/plain": [
       "             Family\n",
       "0         Liliaceae\n",
       "1         Arecaceae\n",
       "2           Araceae\n",
       "3           Araceae\n",
       "4         Liliaceae\n",
       "..              ...\n",
       "350         Araceae\n",
       "351         Araceae\n",
       "352     Marantaceae\n",
       "353        Moraceae\n",
       "354  Amaryllidaceae\n",
       "\n",
       "[355 rows x 1 columns]"
      ]
     },
     "execution_count": 4,
     "metadata": {},
     "output_type": "execute_result"
    }
   ],
   "source": [
    "family = pd.DataFrame(plant_data[\"Family\"])\n",
    "family"
   ]
  },
  {
   "cell_type": "code",
   "execution_count": 5,
   "id": "18c42616",
   "metadata": {},
   "outputs": [
    {
     "data": {
      "text/plain": [
       "Family        \n",
       "Araceae           97\n",
       "Liliaceae         57\n",
       "Other             49\n",
       "Araliaceae        43\n",
       "Arecaceae         26\n",
       "Moraceae          23\n",
       "Bromeliaceae      19\n",
       "Euphorbiaceae     10\n",
       "Marantaceae       10\n",
       "Cactaceae          6\n",
       "Amaryllidaceae     5\n",
       "Apocynaceae        5\n",
       "Crasssulaceae      5\n",
       "dtype: int64"
      ]
     },
     "execution_count": 5,
     "metadata": {},
     "output_type": "execute_result"
    }
   ],
   "source": [
    "# Since there are too many categories, group the families with less than 5 species in \"Other\"\n",
    "\n",
    "condition = family[\"Family\"].map(family[\"Family\"].value_counts()) < 5\n",
    "family[\"Family\"] =  family[\"Family\"].mask(condition, \"Other\")\n",
    "family.value_counts()"
   ]
  },
  {
   "cell_type": "code",
   "execution_count": 6,
   "id": "9b163292",
   "metadata": {},
   "outputs": [
    {
     "data": {
      "text/plain": [
       "<AxesSubplot:xlabel='count', ylabel='Family'>"
      ]
     },
     "execution_count": 6,
     "metadata": {},
     "output_type": "execute_result"
    },
    {
     "data": {
      "image/png": "[encoded data removed]",
      "text/plain": [
       "<Figure size 640x480 with 1 Axes>"
      ]
     },
     "metadata": {},
     "output_type": "display_data"
    }
   ],
   "source": [
    "sns.countplot(y = family[\"Family\"], \n",
    "             order = family[\"Family\"].value_counts().index)"
   ]
  },
  {
   "cell_type": "markdown",
   "id": "c71a87bd",
   "metadata": {},
   "source": [
    "#### Climate"
   ]
  },
  {
   "cell_type": "code",
   "execution_count": 7,
   "id": "3f71205f",
   "metadata": {},
   "outputs": [
    {
     "data": {
      "text/plain": [
       "Tropical                   264\n",
       "Subtropical                 40\n",
       "Tropical humid              24\n",
       "Arid Tropical               24\n",
       "Subtropical arid             2\n",
       "Tropical to subtropical      1\n",
       "Name: Climat, dtype: int64"
      ]
     },
     "execution_count": 7,
     "metadata": {},
     "output_type": "execute_result"
    }
   ],
   "source": [
    "plant_data[\"Climat\"].value_counts()"
   ]
  },
  {
   "cell_type": "code",
   "execution_count": 8,
   "id": "47b8b337",
   "metadata": {},
   "outputs": [
    {
     "data": {
      "image/png": "[encoded data removed]",
      "text/plain": [
       "<Figure size 640x480 with 1 Axes>"
      ]
     },
     "metadata": {},
     "output_type": "display_data"
    }
   ],
   "source": [
    "sns.countplot(y = plant_data[\"Climat\"], \n",
    "             order = plant_data[\"Climat\"].value_counts().index)\n",
    "\n",
    "plt.ylabel(\"Climate\")\n",
    "\n",
    "plt.show()"
   ]
  },
  {
   "cell_type": "markdown",
   "id": "e83b2185",
   "metadata": {},
   "source": [
    "#### Categories "
   ]
  },
  {
   "cell_type": "code",
   "execution_count": 9,
   "id": "bfdace8b",
   "metadata": {},
   "outputs": [
    {
     "data": {
      "image/png": "[encoded data removed]",
      "text/plain": [
       "<Figure size 1200x600 with 1 Axes>"
      ]
     },
     "metadata": {},
     "output_type": "display_data"
    }
   ],
   "source": [
    "sizes = plant_data[\"Categories\"].value_counts() # proportions of the categories\n",
    "label = plant_data[\"Categories\"]\n",
    "fig = plt.figure(figsize=(12,6))\n",
    "squarify.plot(sizes=sizes, label=label, alpha=0.6).set(title=\"Plant categories\")\n",
    "plt.axis('off')\n",
    "plt.show()"
   ]
  },
  {
   "cell_type": "code",
   "execution_count": null,
   "id": "570827f1",
   "metadata": {},
   "outputs": [],
   "source": []
  }
 ],
 "metadata": {
  "kernelspec": {
   "display_name": "Python 3 (ipykernel)",
   "language": "python",
   "name": "python3"
  },
  "language_info": {
   "codemirror_mode": {
    "name": "ipython",
    "version": 3
   },
   "file_extension": ".py",
   "mimetype": "text/x-python",
   "name": "python",
   "nbconvert_exporter": "python",
   "pygments_lexer": "ipython3",
   "version": "3.9.13"
  }
 },
 "nbformat": 4,
 "nbformat_minor": 5
}
